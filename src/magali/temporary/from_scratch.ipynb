{
 "cells": [
  {
   "cell_type": "code",
   "execution_count": 1,
   "metadata": {},
   "outputs": [],
   "source": [
    "import choclo\n",
    "import harmonica as hm\n",
    "import numba\n",
    "import numpy as np\n",
    "import verde as vd\n",
    "\n",
    "import magali as mg"
   ]
  },
  {
   "cell_type": "code",
   "execution_count": 2,
   "metadata": {},
   "outputs": [],
   "source": [
    "dipole_coordinates = (0, 0, -5)\n",
    "true_inclination = 0\n",
    "true_declination = 0\n",
    "true_intensity = 1e-15"
   ]
  },
  {
   "cell_type": "code",
   "execution_count": 7,
   "metadata": {},
   "outputs": [
    {
     "name": "stdout",
     "output_type": "stream",
     "text": [
      "(0, 0, -5)\n",
      "(np.float64(0.0), np.float64(1e-15), np.float64(-0.0))\n",
      "[1.15689137e-20 6.24218915e-16 1.34349536e-18]\n"
     ]
    }
   ],
   "source": [
    "coordinates = vd.grid_coordinates(\n",
    "    region=[-100, 100, -100, 100],\n",
    "    spacing=2,\n",
    "    extra_coords=5,\n",
    ")\n",
    "\n",
    "true_moment = hm.magnetic_angles_to_vec(\n",
    "    inclination=true_inclination,\n",
    "    declination=true_declination,\n",
    "    intensity=true_intensity,\n",
    ")\n",
    "\n",
    "data = mg.dipole_bz(coordinates, dipole_coordinates, true_moment)\n",
    "\n",
    "# print(dipole_coordinates)\n",
    "# print(true_moment)\n",
    "location_linear_model = (-0.062, 0.01937, -2.9997)\n",
    "linear_model = mg.MagneticMomentBz(location_linear_model)\n",
    "linear_model.fit(coordinates, data)\n",
    "# print(linear_model.dipole_moment_)\n",
    "\n",
    "print(location_linear_model)\n",
    "print(linear_model.dipole_moment_)"
   ]
  },
  {
   "cell_type": "code",
   "execution_count": 4,
   "metadata": {},
   "outputs": [
    {
     "name": "stdout",
     "output_type": "stream",
     "text": [
      "[498 498 -13]\n",
      "[-9.59783834e-11  1.61773837e-11  4.64269691e-12]\n"
     ]
    }
   ],
   "source": [
    "# Initial guess\n",
    "location = np.array([498, 498, -13])\n",
    "moment = linear_model.dipole_moment_\n",
    "print(location)\n",
    "print(moment)"
   ]
  },
  {
   "cell_type": "code",
   "execution_count": 5,
   "metadata": {},
   "outputs": [],
   "source": [
    "nonlinear_model = mg.NonlinearMagneticDipoleBz(location, moment)\n",
    "nl_location_, nl_moment_ = nonlinear_model.fit(coordinates, data)"
   ]
  },
  {
   "cell_type": "code",
   "execution_count": 6,
   "metadata": {},
   "outputs": [
    {
     "name": "stdout",
     "output_type": "stream",
     "text": [
      "(0, 0, -5)\n",
      "(np.float64(0.0), np.float64(1e-15), np.float64(-0.0))\n",
      "[2717.9354005  4652.2965652  -169.12194599]\n",
      "[-2.95355432e-07 -1.64731800e-07  2.83173155e-08]\n"
     ]
    }
   ],
   "source": [
    "print(dipole_coordinates)\n",
    "print(true_moment)\n",
    "print(nl_location_)\n",
    "print(nl_moment_)"
   ]
  },
  {
   "cell_type": "code",
   "execution_count": null,
   "metadata": {},
   "outputs": [],
   "source": []
  }
 ],
 "metadata": {
  "kernelspec": {
   "display_name": "Python 3",
   "language": "python",
   "name": "python3"
  },
  "language_info": {
   "codemirror_mode": {
    "name": "ipython",
    "version": 3
   },
   "file_extension": ".py",
   "mimetype": "text/x-python",
   "name": "python",
   "nbconvert_exporter": "python",
   "pygments_lexer": "ipython3",
   "version": "3.12.0"
  }
 },
 "nbformat": 4,
 "nbformat_minor": 2
}
