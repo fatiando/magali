{
 "cells": [
  {
   "cell_type": "code",
   "execution_count": 1,
   "metadata": {},
   "outputs": [],
   "source": [
    "import choclo\n",
    "import harmonica as hm\n",
    "import numba\n",
    "import numpy as np\n",
    "import verde as vd\n",
    "\n",
    "import magali as mg"
   ]
  },
  {
   "cell_type": "code",
   "execution_count": 2,
   "metadata": {},
   "outputs": [],
   "source": [
    "dipole_coordinates = (500, 500, -15)\n",
    "true_inclination = 30\n",
    "true_declination = 40\n",
    "true_intensity = 5e-11"
   ]
  },
  {
   "cell_type": "code",
   "execution_count": 3,
   "metadata": {},
   "outputs": [
    {
     "name": "stdout",
     "output_type": "stream",
     "text": [
      "(500, 500, -15)\n",
      "(np.float64(2.783351996132097e-11), np.float64(3.3170697408446925e-11), np.float64(-2.4999999999999998e-11))\n",
      "[ 3.02179525e-11  3.57779743e-11 -2.49737722e-11]\n"
     ]
    }
   ],
   "source": [
    "coordinates = vd.grid_coordinates(\n",
    "    region=[-100, 100, -100, 100],\n",
    "    spacing=2,\n",
    "    extra_coords=5,\n",
    ")\n",
    "\n",
    "true_moment = hm.magnetic_angles_to_vec(\n",
    "    inclination=true_inclination,\n",
    "    declination=true_declination,\n",
    "    intensity=true_intensity,\n",
    ")\n",
    "\n",
    "data = mg.dipole_bz(coordinates, dipole_coordinates, true_moment)\n",
    "\n",
    "print(dipole_coordinates)\n",
    "print(true_moment)\n",
    "\n",
    "linear_model = mg.MagneticMomentBz((499, 499, -14))\n",
    "linear_model.fit(coordinates, data)\n",
    "print(linear_model.dipole_moment_)"
   ]
  },
  {
   "cell_type": "code",
   "execution_count": null,
   "metadata": {},
   "outputs": [
    {
     "name": "stdout",
     "output_type": "stream",
     "text": [
      "[495 495 -10]\n",
      "[ 3.02179525e-11  3.57779743e-11 -2.49737722e-11]\n"
     ]
    }
   ],
   "source": [
    "# Initial guess\n",
    "location = np.array([498, 498, -13])\n",
    "moment = linear_model.dipole_moment_\n",
    "print(location)\n",
    "print(moment)"
   ]
  },
  {
   "cell_type": "code",
   "execution_count": 7,
   "metadata": {},
   "outputs": [],
   "source": [
    "nonlinear_model = mg.NonlinearMagneticDipoleBz(location, moment)\n",
    "nl_location_, nl_moment_ = nonlinear_model.fit(coordinates, data)"
   ]
  },
  {
   "cell_type": "code",
   "execution_count": 6,
   "metadata": {},
   "outputs": [
    {
     "name": "stdout",
     "output_type": "stream",
     "text": [
      "(500, 500, -15)\n",
      "(np.float64(2.783351996132097e-11), np.float64(3.3170697408446925e-11), np.float64(-2.4999999999999998e-11))\n",
      "[499.52699953 499.30003455  -8.27199836]\n",
      "[ 4.35879814e-11  5.18907520e-11 -2.50243391e-11]\n"
     ]
    }
   ],
   "source": [
    "print(dipole_coordinates)\n",
    "print(true_moment)\n",
    "print(nl_location_)\n",
    "print(nl_moment_)"
   ]
  },
  {
   "cell_type": "code",
   "execution_count": null,
   "metadata": {},
   "outputs": [],
   "source": []
  }
 ],
 "metadata": {
  "kernelspec": {
   "display_name": "magali",
   "language": "python",
   "name": "python3"
  },
  "language_info": {
   "codemirror_mode": {
    "name": "ipython",
    "version": 3
   },
   "file_extension": ".py",
   "mimetype": "text/x-python",
   "name": "python",
   "nbconvert_exporter": "python",
   "pygments_lexer": "ipython3",
   "version": "3.12.0"
  }
 },
 "nbformat": 4,
 "nbformat_minor": 2
}
