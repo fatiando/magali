{
 "cells": [
  {
   "cell_type": "code",
   "execution_count": 1,
   "metadata": {},
   "outputs": [],
   "source": [
    "import magali as mg\n",
    "import numpy as np"
   ]
  },
  {
   "cell_type": "code",
   "execution_count": 2,
   "metadata": {},
   "outputs": [],
   "source": [
    "x, y, z = np.meshgrid(\n",
    "    np.linspace(-5e-6, 5e-6, 20),\n",
    "    np.linspace(-5e-6, 5e-6, 20),\n",
    "    10e-6,\n",
    "    indexing=\"ij\"\n",
    ")\n",
    "\n",
    "\n",
    "true_params = (0.0, 0.0, 0.0, 1e-14, 2e-14, -1e-14)\n",
    "model = mg.MagneticDipoleBz(initial=(1e-6, 1e-6, 1e-6, 1e-15, 1e-15, 1e-15))\n",
    "Bz = model.forward(x.ravel(), y.ravel(), z.ravel(), true_params)\n"
   ]
  },
  {
   "cell_type": "code",
   "execution_count": null,
   "metadata": {},
   "outputs": [],
   "source": []
  }
 ],
 "metadata": {
  "kernelspec": {
   "display_name": "Python 3",
   "language": "python",
   "name": "python3"
  },
  "language_info": {
   "codemirror_mode": {
    "name": "ipython",
    "version": 3
   },
   "file_extension": ".py",
   "mimetype": "text/x-python",
   "name": "python",
   "nbconvert_exporter": "python",
   "pygments_lexer": "ipython3",
   "version": "3.12.0"
  }
 },
 "nbformat": 4,
 "nbformat_minor": 2
}
