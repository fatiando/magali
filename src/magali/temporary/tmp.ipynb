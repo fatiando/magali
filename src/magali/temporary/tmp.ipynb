{
 "cells": [
  {
   "cell_type": "code",
   "execution_count": 1,
   "metadata": {},
   "outputs": [],
   "source": [
    "import harmonica as hm\n",
    "import matplotlib.pyplot as plt\n",
    "import numpy as np\n",
    "import verde as vd\n",
    "\n",
    "from magali._inversion import MagneticDipoleBz, MagneticMomentBz\n",
    "from magali._synthetic import dipole_bz\n",
    "from magali._units import (\n",
    "    coordinates_micrometer_to_meter,\n",
    "    meter_to_micrometer,\n",
    "    nanotesla_to_tesla,\n",
    "    tesla_to_nanotesla,\n",
    ")"
   ]
  },
  {
   "cell_type": "code",
   "execution_count": 2,
   "metadata": {},
   "outputs": [],
   "source": [
    "dipole_coordinates = (500, 500, -15)\n",
    "true_inclination = 30\n",
    "true_declination = 40\n",
    "true_intensity = 5e-11"
   ]
  },
  {
   "cell_type": "code",
   "execution_count": 3,
   "metadata": {},
   "outputs": [
    {
     "name": "stdout",
     "output_type": "stream",
     "text": [
      "True location: (500, 500, -15)\n",
      "True moment: (np.float64(2.783351996132097e-10), np.float64(3.317069740844692e-10), np.float64(-2.4999999999999996e-10))\n"
     ]
    },
    {
     "data": {
      "text/plain": [
       "(np.float64(1.998503632982814e-10),\n",
       " np.float64(2.4551824249859465e-10),\n",
       " np.float64(-2.5095731103654353e-10))"
      ]
     },
     "execution_count": 3,
     "metadata": {},
     "output_type": "execute_result"
    }
   ],
   "source": [
    "coordinates = vd.grid_coordinates(\n",
    "    region=[490, 510, 490, 510],\n",
    "    spacing=1,\n",
    "    extra_coords=5,\n",
    ")\n",
    "true_intensity = 5e-10\n",
    "true_moment = hm.magnetic_angles_to_vec(\n",
    "    inclination=true_inclination,\n",
    "    declination=true_declination,\n",
    "    intensity=true_intensity,\n",
    ")\n",
    "\n",
    "data = dipole_bz(coordinates, dipole_coordinates, true_moment)\n",
    "linear_model = MagneticMomentBz((499, 499, -14))\n",
    "linear_model.fit(coordinates, data)\n",
    "print(\"True location:\", dipole_coordinates)\n",
    "print(\"True moment:\", true_moment)\n",
    "tuple(linear_model.dipole_moment_)"
   ]
  },
  {
   "cell_type": "code",
   "execution_count": 4,
   "metadata": {},
   "outputs": [
    {
     "name": "stdout",
     "output_type": "stream",
     "text": [
      "(np.float64(1.998503632982814e-10), np.float64(2.4551824249859465e-10), np.float64(-2.5095731103654353e-10))\n",
      "(np.float64(495.0), np.float64(495.0), np.float64(-14.0))\n",
      "[ 2.74361134e-11  7.91207880e-11 -3.16161276e-10]\n"
     ]
    },
    {
     "ename": "ValueError",
     "evalue": "Invalid magnetic moments with '0' elements. Magnetic moments vectors should have 3 components.",
     "output_type": "error",
     "traceback": [
      "\u001b[31m---------------------------------------------------------------------------\u001b[39m",
      "\u001b[31mValueError\u001b[39m                                Traceback (most recent call last)",
      "\u001b[36mCell\u001b[39m\u001b[36m \u001b[39m\u001b[32mIn[4]\u001b[39m\u001b[32m, line 3\u001b[39m\n\u001b[32m      1\u001b[39m model = MagneticDipoleBz((\u001b[32m495\u001b[39m, \u001b[32m495\u001b[39m, -\u001b[32m14\u001b[39m) + \u001b[38;5;28mtuple\u001b[39m(linear_model.dipole_moment_))\n\u001b[32m----> \u001b[39m\u001b[32m3\u001b[39m \u001b[43mmodel\u001b[49m\u001b[43m.\u001b[49m\u001b[43mfit\u001b[49m\u001b[43m(\u001b[49m\u001b[43mcoordinates\u001b[49m\u001b[43m,\u001b[49m\u001b[43m \u001b[49m\u001b[43mdata\u001b[49m\u001b[43m)\u001b[49m\n\u001b[32m      5\u001b[39m \u001b[38;5;28mprint\u001b[39m(\u001b[33m\"\u001b[39m\u001b[33mRecovered location:\u001b[39m\u001b[33m\"\u001b[39m, meter_to_micrometer(model.location_))\n\u001b[32m      6\u001b[39m \u001b[38;5;28mprint\u001b[39m(\u001b[33m\"\u001b[39m\u001b[33mRecovered moment:\u001b[39m\u001b[33m\"\u001b[39m, model.dipole_moment_)\n",
      "\u001b[36mFile \u001b[39m\u001b[32m~/Documents/msc/magali/src/magali/_inversion.py:242\u001b[39m, in \u001b[36mMagneticDipoleBz.fit\u001b[39m\u001b[34m(self, coordinates, data, maxiter, alpha, dalpha, tol)\u001b[39m\n\u001b[32m    240\u001b[39m deltap = np.linalg.solve(H + alpha * np.identity(\u001b[38;5;28mlen\u001b[39m(params)), gradient)\n\u001b[32m    241\u001b[39m trial_params = params + deltap\n\u001b[32m--> \u001b[39m\u001b[32m242\u001b[39m trial_residuals = data - \u001b[38;5;28;43mself\u001b[39;49m\u001b[43m.\u001b[49m\u001b[43mforward\u001b[49m\u001b[43m(\u001b[49m\u001b[43mcoordinates\u001b[49m\u001b[43m,\u001b[49m\u001b[43m \u001b[49m\u001b[43mtrial_params\u001b[49m\u001b[43m+\u001b[49m\u001b[43m \u001b[49m\u001b[43mmoment\u001b[49m\u001b[43m)\u001b[49m\n\u001b[32m    243\u001b[39m trial_misfit = np.linalg.norm(trial_residuals) ** \u001b[32m2\u001b[39m\n\u001b[32m    245\u001b[39m \u001b[38;5;28;01mif\u001b[39;00m trial_misfit > misfit[-\u001b[32m1\u001b[39m]:\n",
      "\u001b[36mFile \u001b[39m\u001b[32m~/Documents/msc/magali/src/magali/_inversion.py:203\u001b[39m, in \u001b[36mMagneticDipoleBz.forward\u001b[39m\u001b[34m(self, coordinates, parameters)\u001b[39m\n\u001b[32m    201\u001b[39m location = parameters[:\u001b[32m3\u001b[39m]\n\u001b[32m    202\u001b[39m moment = parameters[\u001b[32m3\u001b[39m:]\n\u001b[32m--> \u001b[39m\u001b[32m203\u001b[39m \u001b[38;5;28;01mreturn\u001b[39;00m \u001b[43mdipole_bz\u001b[49m\u001b[43m(\u001b[49m\u001b[43mcoordinates\u001b[49m\u001b[43m,\u001b[49m\u001b[43m \u001b[49m\u001b[43mlocation\u001b[49m\u001b[43m,\u001b[49m\u001b[43m \u001b[49m\u001b[43mmoment\u001b[49m\u001b[43m)\u001b[49m\n",
      "\u001b[36mFile \u001b[39m\u001b[32m~/Documents/msc/magali/src/magali/_synthetic.py:170\u001b[39m, in \u001b[36mdipole_bz\u001b[39m\u001b[34m(coordinates, dipole_coordinates, dipole_moments)\u001b[39m\n\u001b[32m    168\u001b[39m coordinates_m = coordinates_micrometer_to_meter(coordinates)\n\u001b[32m    169\u001b[39m dipole_coordinates_m = coordinates_micrometer_to_meter(dipole_coordinates)\n\u001b[32m--> \u001b[39m\u001b[32m170\u001b[39m \u001b[38;5;28;01mreturn\u001b[39;00m \u001b[43mhm\u001b[49m\u001b[43m.\u001b[49m\u001b[43mdipole_magnetic\u001b[49m\u001b[43m(\u001b[49m\n\u001b[32m    171\u001b[39m \u001b[43m    \u001b[49m\u001b[43mcoordinates_m\u001b[49m\u001b[43m,\u001b[49m\u001b[43m \u001b[49m\u001b[43mdipole_coordinates_m\u001b[49m\u001b[43m,\u001b[49m\u001b[43m \u001b[49m\u001b[43mdipole_moments\u001b[49m\u001b[43m,\u001b[49m\u001b[43m \u001b[49m\u001b[43mfield\u001b[49m\u001b[43m=\u001b[49m\u001b[33;43m\"\u001b[39;49m\u001b[33;43mb_u\u001b[39;49m\u001b[33;43m\"\u001b[39;49m\n\u001b[32m    172\u001b[39m \u001b[43m\u001b[49m\u001b[43m)\u001b[49m\n",
      "\u001b[36mFile \u001b[39m\u001b[32m~/miniforge3/envs/magali/lib/python3.12/site-packages/harmonica/_forward/dipole.py:111\u001b[39m, in \u001b[36mdipole_magnetic\u001b[39m\u001b[34m(coordinates, dipoles, magnetic_moments, field, parallel, dtype, progressbar, disable_checks)\u001b[39m\n\u001b[32m    109\u001b[39m \u001b[38;5;66;03m# Sanity checks\u001b[39;00m\n\u001b[32m    110\u001b[39m \u001b[38;5;28;01mif\u001b[39;00m \u001b[38;5;129;01mnot\u001b[39;00m disable_checks:\n\u001b[32m--> \u001b[39m\u001b[32m111\u001b[39m     \u001b[43m_check_dipoles_and_magnetic_moments\u001b[49m\u001b[43m(\u001b[49m\u001b[43mdipoles\u001b[49m\u001b[43m,\u001b[49m\u001b[43m \u001b[49m\u001b[43mmagnetic_moments\u001b[49m\u001b[43m)\u001b[49m\n\u001b[32m    112\u001b[39m \u001b[38;5;66;03m# Run computations\u001b[39;00m\n\u001b[32m    113\u001b[39m \u001b[38;5;28;01mif\u001b[39;00m field == \u001b[33m\"\u001b[39m\u001b[33mb\u001b[39m\u001b[33m\"\u001b[39m:\n",
      "\u001b[36mFile \u001b[39m\u001b[32m~/miniforge3/envs/magali/lib/python3.12/site-packages/harmonica/_forward/dipole.py:277\u001b[39m, in \u001b[36m_check_dipoles_and_magnetic_moments\u001b[39m\u001b[34m(dipoles, magnetic_moments)\u001b[39m\n\u001b[32m    273\u001b[39m \u001b[38;5;250m\u001b[39m\u001b[33;03m\"\"\"\u001b[39;00m\n\u001b[32m    274\u001b[39m \u001b[33;03mCheck if dipoles and magnetic moments have valid shape and size\u001b[39;00m\n\u001b[32m    275\u001b[39m \u001b[33;03m\"\"\"\u001b[39;00m\n\u001b[32m    276\u001b[39m \u001b[38;5;28;01mif\u001b[39;00m (size := \u001b[38;5;28mlen\u001b[39m(magnetic_moments)) != \u001b[32m3\u001b[39m:\n\u001b[32m--> \u001b[39m\u001b[32m277\u001b[39m     \u001b[38;5;28;01mraise\u001b[39;00m \u001b[38;5;167;01mValueError\u001b[39;00m(\n\u001b[32m    278\u001b[39m         \u001b[33mf\u001b[39m\u001b[33m\"\u001b[39m\u001b[33mInvalid magnetic moments with \u001b[39m\u001b[33m'\u001b[39m\u001b[38;5;132;01m{\u001b[39;00msize\u001b[38;5;132;01m}\u001b[39;00m\u001b[33m'\u001b[39m\u001b[33m elements.\u001b[39m\u001b[33m\"\u001b[39m\n\u001b[32m    279\u001b[39m         \u001b[33m\"\u001b[39m\u001b[33m Magnetic moments vectors should have 3 components.\u001b[39m\u001b[33m\"\u001b[39m\n\u001b[32m    280\u001b[39m     )\n\u001b[32m    281\u001b[39m \u001b[38;5;28;01mif\u001b[39;00m magnetic_moments[\u001b[32m0\u001b[39m].size != dipoles[\u001b[32m0\u001b[39m].size:\n\u001b[32m    282\u001b[39m     \u001b[38;5;28;01mraise\u001b[39;00m \u001b[38;5;167;01mValueError\u001b[39;00m(\n\u001b[32m    283\u001b[39m         \u001b[33mf\u001b[39m\u001b[33m\"\u001b[39m\u001b[33mNumber of elements in magnetic_moments (\u001b[39m\u001b[38;5;132;01m{\u001b[39;00mmagnetic_moments[\u001b[32m0\u001b[39m].size\u001b[38;5;132;01m}\u001b[39;00m\u001b[33m)\u001b[39m\u001b[33m\"\u001b[39m\n\u001b[32m    284\u001b[39m         \u001b[33mf\u001b[39m\u001b[33m\"\u001b[39m\u001b[33m mismatch the number of dipoles (\u001b[39m\u001b[38;5;132;01m{\u001b[39;00mdipoles[\u001b[32m0\u001b[39m].size\u001b[38;5;132;01m}\u001b[39;00m\u001b[33m).\u001b[39m\u001b[33m\"\u001b[39m\n\u001b[32m    285\u001b[39m     )\n",
      "\u001b[31mValueError\u001b[39m: Invalid magnetic moments with '0' elements. Magnetic moments vectors should have 3 components."
     ]
    }
   ],
   "source": [
    "model = MagneticDipoleBz((499, 499, -14) + tuple(linear_model.dipole_moment_))\n",
    "\n",
    "model.fit(coordinates, data)\n",
    "\n",
    "print(\"Recovered location:\", meter_to_micrometer(model.location_))\n",
    "print(\"Recovered moment:\", model.dipole_moment_)\n",
    "print(\"True location:\", dipole_coordinates)\n",
    "print(\"True moment:\", true_moment)"
   ]
  },
  {
   "cell_type": "code",
   "execution_count": 4,
   "metadata": {},
   "outputs": [
    {
     "data": {
      "text/plain": [
       "[np.float64(7.376371744083828e+25),\n",
       " np.float64(1.1225931274945406e+16),\n",
       " np.float64(1.1225931274945406e+16)]"
      ]
     },
     "execution_count": 4,
     "metadata": {},
     "output_type": "execute_result"
    }
   ],
   "source": [
    "model.misfit"
   ]
  },
  {
   "cell_type": "code",
   "execution_count": 10,
   "metadata": {},
   "outputs": [
    {
     "data": {
      "text/plain": [
       "(1, 2, 3, 4, 5, 6)"
      ]
     },
     "execution_count": 10,
     "metadata": {},
     "output_type": "execute_result"
    }
   ],
   "source": [
    "params = tuple(\n",
    "    [\n",
    "        1,\n",
    "        2,\n",
    "        3,\n",
    "    ]\n",
    ")\n",
    "moment = tuple([4, 5, 6])\n",
    "params + moment"
   ]
  },
  {
   "cell_type": "code",
   "execution_count": 5,
   "metadata": {},
   "outputs": [
    {
     "data": {
      "text/plain": [
       "<matplotlib.colorbar.Colorbar at 0x7fcd7db2aed0>"
      ]
     },
     "execution_count": 5,
     "metadata": {},
     "output_type": "execute_result"
    },
    {
     "data": {
      "image/png": "[encoded data removed]",
      "text/plain": [
       "<Figure size 640x480 with 2 Axes>"
      ]
     },
     "metadata": {},
     "output_type": "display_data"
    }
   ],
   "source": [
    "scale = np.max(np.abs(model.jacobian))\n",
    "\n",
    "plt.imshow(model.jacobian, vmin=-scale, vmax=scale, cmap=\"RdBu_r\")\n",
    "plt.colorbar()"
   ]
  },
  {
   "cell_type": "code",
   "execution_count": null,
   "metadata": {},
   "outputs": [],
   "source": []
  }
 ],
 "metadata": {
  "kernelspec": {
   "display_name": "Python 3",
   "language": "python",
   "name": "python3"
  },
  "language_info": {
   "codemirror_mode": {
    "name": "ipython",
    "version": 3
   },
   "file_extension": ".py",
   "mimetype": "text/x-python",
   "name": "python",
   "nbconvert_exporter": "python",
   "pygments_lexer": "ipython3",
   "version": "3.12.0"
  }
 },
 "nbformat": 4,
 "nbformat_minor": 2
}
