{
 "cells": [
  {
   "cell_type": "code",
   "execution_count": 1,
   "metadata": {},
   "outputs": [],
   "source": [
    "import harmonica as hm\n",
    "import numpy as np\n",
    "import verde as vd\n",
    "\n",
    "from magali._inversion import MagneticMomentBz, MagneticDipoleBz\n",
    "from magali._synthetic import dipole_bz\n",
    "\n",
    "from magali._units import (\n",
    "    meter_to_micrometer,\n",
    "    coordinates_micrometer_to_meter,\n",
    "    nanotesla_to_tesla,\n",
    "    tesla_to_nanotesla,\n",
    ")\n",
    "\n",
    "import matplotlib.pyplot as plt"
   ]
  },
  {
   "cell_type": "code",
   "execution_count": 2,
   "metadata": {},
   "outputs": [],
   "source": [
    "dipole_coordinates = (500, 500, -15)\n",
    "true_inclination = 30\n",
    "true_declination = 40\n",
    "true_intensity = 5e-11"
   ]
  },
  {
   "cell_type": "code",
   "execution_count": 3,
   "metadata": {},
   "outputs": [
    {
     "name": "stdout",
     "output_type": "stream",
     "text": [
      "Recovered location: [ 1.04319951e+14  1.05132715e+14 -3.65367730e+14]\n",
      "Recovered moment: [ 2.   2.5 -1.5]\n",
      "True location: (500, 500, -15)\n",
      "True moment: (np.float64(2.783351996132097e-10), np.float64(3.317069740844692e-10), np.float64(-2.4999999999999996e-10))\n"
     ]
    }
   ],
   "source": [
    "coordinates = vd.grid_coordinates(\n",
    "    region=[490, 510, 490, 510],\n",
    "    spacing=1,\n",
    "    extra_coords=5,\n",
    ")\n",
    "\n",
    "true_intensity = 5e-10\n",
    "\n",
    "true_moment = hm.magnetic_angles_to_vec(\n",
    "    inclination=true_inclination,\n",
    "    declination=true_declination,\n",
    "    intensity=true_intensity,\n",
    ")\n",
    "\n",
    "data = dipole_bz(coordinates, dipole_coordinates, true_moment)\n",
    "\n",
    "model = MagneticDipoleBz((490, 490, -10) + tuple((2, 2.5, -1.5)))\n",
    "\n",
    "model.fit(coordinates, data)\n",
    "\n",
    "print(\"Recovered location:\", meter_to_micrometer(model.location_))\n",
    "print(\"Recovered moment:\", model.dipole_moment_)\n",
    "print(\"True location:\", dipole_coordinates)\n",
    "print(\"True moment:\", true_moment)"
   ]
  },
  {
   "cell_type": "code",
   "execution_count": 4,
   "metadata": {},
   "outputs": [
    {
     "data": {
      "text/plain": [
       "[np.float64(7.376371744083828e+25),\n",
       " np.float64(1.122593127491317e+16),\n",
       " np.float64(1.122593127491317e+16)]"
      ]
     },
     "execution_count": 4,
     "metadata": {},
     "output_type": "execute_result"
    }
   ],
   "source": [
    "model.misfit"
   ]
  },
  {
   "cell_type": "code",
   "execution_count": null,
   "metadata": {},
   "outputs": [],
   "source": []
  },
  {
   "cell_type": "code",
   "execution_count": null,
   "metadata": {},
   "outputs": [],
   "source": []
  }
 ],
 "metadata": {
  "kernelspec": {
   "display_name": "Python 3",
   "language": "python",
   "name": "python3"
  },
  "language_info": {
   "codemirror_mode": {
    "name": "ipython",
    "version": 3
   },
   "file_extension": ".py",
   "mimetype": "text/x-python",
   "name": "python",
   "nbconvert_exporter": "python",
   "pygments_lexer": "ipython3",
   "version": "3.12.0"
  }
 },
 "nbformat": 4,
 "nbformat_minor": 2
}
