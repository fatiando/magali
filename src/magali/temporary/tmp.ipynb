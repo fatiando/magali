{
 "cells": [
  {
   "cell_type": "code",
   "execution_count": null,
   "metadata": {},
   "outputs": [],
   "source": [
    "import harmonica as hm\n",
    "import numpy as np\n",
    "import verde as vd\n",
    "\n",
    "from magali._inversion import MagneticMomentBz, MagneticDipoleBz\n",
    "from magali._synthetic import dipole_bz\n",
    "\n",
    "from magali._units import (\n",
    "    meter_to_micrometer,\n",
    "    coordinates_micrometer_to_meter,\n",
    "    nanotesla_to_tesla,\n",
    "    tesla_to_nanotesla,\n",
    ")\n",
    "\n",
    "import matplotlib.pyplot as plt"
   ]
  },
  {
   "cell_type": "code",
   "execution_count": 2,
   "metadata": {},
   "outputs": [
    {
     "name": "stdout",
     "output_type": "stream",
     "text": [
      "(500, 500, -15)\n",
      "(np.float64(2.783351996132097e-11), np.float64(3.3170697408446925e-11), np.float64(-2.4999999999999998e-11))\n",
      "[ 3.0e+02  1.3e+02 -1.0e+00  1.5e-11  3.0e-11 -2.0e-11]\n"
     ]
    }
   ],
   "source": [
    "dipole_coordinates = (500, 500, -15)\n",
    "true_inclination = 30\n",
    "true_declination = 40\n",
    "true_intensity = 5e-11\n",
    "true_moment = hm.magnetic_angles_to_vec(\n",
    "    inclination=true_inclination,\n",
    "    declination=true_declination,\n",
    "    intensity=true_intensity,\n",
    ")\n",
    "coordinates = vd.grid_coordinates(\n",
    "    region=[0, 100, 0, 100],\n",
    "    spacing=1,\n",
    "    extra_coords=5,\n",
    ")\n",
    "\n",
    "data = dipole_bz(coordinates, dipole_coordinates, true_moment)\n",
    "model = MagneticDipoleBz((300, 130, -1) + (1.5e-11, 3e-11, -2e-11))\n",
    "\n",
    "print(dipole_coordinates)\n",
    "print(true_moment)\n",
    "print(model.initial)"
   ]
  },
  {
   "cell_type": "code",
   "execution_count": 3,
   "metadata": {},
   "outputs": [
    {
     "data": {
      "text/plain": [
       "1.5e-09"
      ]
     },
     "execution_count": 3,
     "metadata": {},
     "output_type": "execute_result"
    }
   ],
   "source": [
    "xc, yc, zc = coordinates_micrometer_to_meter(dipole_coordinates)\n",
    "m = nanotesla_to_tesla(1.5)\n",
    "m "
   ]
  },
  {
   "cell_type": "code",
   "execution_count": 4,
   "metadata": {},
   "outputs": [
    {
     "data": {
      "text/plain": [
       "<magali._inversion.MagneticDipoleBz at 0x7fb38c13a2d0>"
      ]
     },
     "execution_count": 4,
     "metadata": {},
     "output_type": "execute_result"
    }
   ],
   "source": [
    "model.fit(coordinates, data)"
   ]
  },
  {
   "cell_type": "code",
   "execution_count": 5,
   "metadata": {},
   "outputs": [
    {
     "data": {
      "text/plain": [
       "array([ 1263010.30660763,  2445671.76123956, -4937206.35297873])"
      ]
     },
     "execution_count": 5,
     "metadata": {},
     "output_type": "execute_result"
    }
   ],
   "source": [
    "model.location_"
   ]
  },
  {
   "cell_type": "code",
   "execution_count": 6,
   "metadata": {},
   "outputs": [
    {
     "data": {
      "text/plain": [
       "array([-1859.41609074,  -389.21534501,   146.88000343])"
      ]
     },
     "execution_count": 6,
     "metadata": {},
     "output_type": "execute_result"
    }
   ],
   "source": [
    "model.dipole_moment_"
   ]
  },
  {
   "cell_type": "code",
   "execution_count": null,
   "metadata": {},
   "outputs": [
    {
     "ename": "NameError",
     "evalue": "name 'imshow' is not defined",
     "output_type": "error",
     "traceback": [
      "\u001b[31m---------------------------------------------------------------------------\u001b[39m",
      "\u001b[31mNameError\u001b[39m                                 Traceback (most recent call last)",
      "\u001b[36mCell\u001b[39m\u001b[36m \u001b[39m\u001b[32mIn[8]\u001b[39m\u001b[32m, line 1\u001b[39m\n\u001b[32m----> \u001b[39m\u001b[32m1\u001b[39m \u001b[43mimshow\u001b[49m(model.jacobian)\n",
      "\u001b[31mNameError\u001b[39m: name 'imshow' is not defined"
     ]
    }
   ],
   "source": [
    "plt.imshow(model.jacobian)"
   ]
  },
  {
   "cell_type": "code",
   "execution_count": null,
   "metadata": {},
   "outputs": [],
   "source": []
  }
 ],
 "metadata": {
  "kernelspec": {
   "display_name": "magali",
   "language": "python",
   "name": "python3"
  },
  "language_info": {
   "codemirror_mode": {
    "name": "ipython",
    "version": 3
   },
   "file_extension": ".py",
   "mimetype": "text/x-python",
   "name": "python",
   "nbconvert_exporter": "python",
   "pygments_lexer": "ipython3",
   "version": "3.12.0"
  }
 },
 "nbformat": 4,
 "nbformat_minor": 2
}
